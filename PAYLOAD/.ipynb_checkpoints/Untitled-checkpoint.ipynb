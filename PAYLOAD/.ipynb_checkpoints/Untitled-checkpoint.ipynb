{
 "cells": [
  {
   "cell_type": "code",
   "execution_count": 1,
   "id": "33f691e7",
   "metadata": {},
   "outputs": [],
   "source": [
    "import cv2"
   ]
  },
  {
   "cell_type": "code",
   "execution_count": 4,
   "id": "14dd3623",
   "metadata": {
    "scrolled": false
   },
   "outputs": [],
   "source": [
    "image = cv2.imread('ct.jpg')"
   ]
  },
  {
   "cell_type": "code",
   "execution_count": 5,
   "id": "803dcab2",
   "metadata": {},
   "outputs": [],
   "source": [
    "block_size = 4"
   ]
  },
  {
   "cell_type": "code",
   "execution_count": 6,
   "id": "8f98a5fc",
   "metadata": {},
   "outputs": [],
   "source": [
    "binned_image = cv2.resize(image, (image.shape[1] // block_size, image.shape[0] // block_size))"
   ]
  },
  {
   "cell_type": "code",
   "execution_count": 7,
   "id": "0a80b6e6",
   "metadata": {},
   "outputs": [],
   "source": [
    "cv2.imshow('Original Image', image)\n",
    "cv2.imshow('Binned Image', binned_image)\n",
    "cv2.waitKey(0)\n",
    "cv2.destroyAllWindows()"
   ]
  },
  {
   "cell_type": "code",
   "execution_count": null,
   "id": "d143224b",
   "metadata": {},
   "outputs": [],
   "source": []
  }
 ],
 "metadata": {
  "kernelspec": {
   "display_name": "Python 3 (ipykernel)",
   "language": "python",
   "name": "python3"
  },
  "language_info": {
   "codemirror_mode": {
    "name": "ipython",
    "version": 3
   },
   "file_extension": ".py",
   "mimetype": "text/x-python",
   "name": "python",
   "nbconvert_exporter": "python",
   "pygments_lexer": "ipython3",
   "version": "3.11.5"
  }
 },
 "nbformat": 4,
 "nbformat_minor": 5
}
